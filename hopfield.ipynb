{
 "cells": [
  {
   "cell_type": "markdown",
   "metadata": {},
   "source": [
    "# FCM training based on Hopfield NN\n",
    "\n",
    "## Learning algorithms for Fuzzy Cognitive Maps\n",
    "\n",
    "This notebook is an implementation of the Hopfield Neural Network training algorithm as proposed in section 4.2 of [reference paper](https://www.researchgate.net/publication/221399332_Learning_algorithms_for_fuzzy_cognitive_maps).\n",
    "\n",
    "\n",
    "## Dependencies\n",
    "\n",
    "[NetworkX](http://networkx.github.io) is a Python library for modeling complex networks. [Matplotlib](http://matplotlib.org) is for ploting. [Sympy](http://sympy.org) prints nice LaTeX from arrays. This is a [jupyter notebook](http://jupyter.org/), hosted at https://github.com/CA-Lab/FCM_Niche_Construction/blob/master/hopfield.ipynb."
   ]
  },
  {
   "cell_type": "code",
   "execution_count": 1,
   "metadata": {},
   "outputs": [],
   "source": [
    "import networkx as nx\n",
    "import numpy as np\n",
    "import matplotlib\n",
    "import matplotlib.pyplot as plt\n",
    "%matplotlib inline\n",
    "from nx_plot import draw_graph\n",
    "import sympy\n",
    "sympy.init_printing()\n",
    "from sympy.matrices import Matrix\n",
    "import random"
   ]
  },
  {
   "cell_type": "markdown",
   "metadata": {},
   "source": [
    "## Example"
   ]
  },
  {
   "cell_type": "code",
   "execution_count": 2,
   "metadata": {},
   "outputs": [
    {
     "data": {
      "text/latex": [
       "$$\\left[\\begin{matrix}0.32 & 0.4 & 0.45\\end{matrix}\\right]$$"
      ],
      "text/plain": [
       "[0.32  0.4  0.45]"
      ]
     },
     "execution_count": 2,
     "metadata": {},
     "output_type": "execute_result"
    }
   ],
   "source": [
    "c = [0.32, 0.4, 0.45]\n",
    "\n",
    "Matrix([c, ])"
   ]
  },
  {
   "cell_type": "code",
   "execution_count": 3,
   "metadata": {},
   "outputs": [
    {
     "data": {
      "text/latex": [
       "$$\\left[\\begin{matrix}0 & 1 & -1\\\\-1 & 0 & 1\\\\1 & 1 & 0\\end{matrix}\\right]$$"
      ],
      "text/plain": [
       "⎡0   1  -1⎤\n",
       "⎢         ⎥\n",
       "⎢-1  0  1 ⎥\n",
       "⎢         ⎥\n",
       "⎣1   1  0 ⎦"
      ]
     },
     "execution_count": 3,
     "metadata": {},
     "output_type": "execute_result"
    }
   ],
   "source": [
    "w = np.array([[0,  1, -1],\n",
    "              [-1, 0,  1],\n",
    "              [1,  1,  0]])\n",
    "Matrix(w)"
   ]
  },
  {
   "cell_type": "markdown",
   "metadata": {},
   "source": [
    "## Load to NetworkX"
   ]
  },
  {
   "cell_type": "code",
   "execution_count": 4,
   "metadata": {},
   "outputs": [
    {
     "name": "stdout",
     "output_type": "stream",
     "text": [
      "  (0, 1)\t-1\n",
      "  (0, 2)\t1\n",
      "  (1, 0)\t1\n",
      "  (1, 2)\t1\n",
      "  (2, 0)\t-1\n",
      "  (2, 1)\t1\n"
     ]
    },
    {
     "data": {
      "image/png": "[encoded data removed]",
      "text/plain": [
       "<matplotlib.figure.Figure at 0x7ff538403ed0>"
      ]
     },
     "metadata": {},
     "output_type": "display_data"
    }
   ],
   "source": [
    "# create directed graph from adjacency matrix w\n",
    "g = nx.DiGraph(w.swapaxes(0, 1))  \n",
    "\n",
    "# set node states\n",
    "for n in g.nodes:\n",
    "    g.add_node(n, dvc=c[n])\n",
    "\n",
    "    \n",
    "# sanity check\n",
    "print nx.adjacency_matrix(g)\n",
    "\n",
    "draw_graph(g)"
   ]
  },
  {
   "cell_type": "markdown",
   "metadata": {},
   "source": [
    "## Time Step procedure\n",
    "\n",
    "At each time step the simulation must run procedures for updating node states and edge weights.\n",
    "\n",
    "### Activation Function\n",
    "\n",
    "$$ f(x)=\\frac{1}{1+e^{-x}} $$\n"
   ]
  },
  {
   "cell_type": "code",
   "execution_count": 5,
   "metadata": {},
   "outputs": [],
   "source": [
    "def f(x):\n",
    "    \"\"\" activation function \"\"\"\n",
    "    return 1.0 / (1 + np.e ** (-x))"
   ]
  },
  {
   "cell_type": "markdown",
   "metadata": {},
   "source": [
    "### Desired Value of Concept\n",
    "\n",
    "$$ DVC_{i}(t+1)=f\\{DVC_{i}(T)+\\sum_{j}w_{ij}(t+1)\\cdot DVC_{j}(t)\\} $$"
   ]
  },
  {
   "cell_type": "code",
   "execution_count": 6,
   "metadata": {},
   "outputs": [],
   "source": [
    "def DVC(i, g):\n",
    "    \"\"\" Desired Value of Concept on t+1 \"\"\"\n",
    "    return f(g.node[i]['dvc']\n",
    "              + sum([w((i, j), g)* g.node[j]['dvc']\n",
    "                     for j in g.neighbors(i)]))"
   ]
  },
  {
   "cell_type": "markdown",
   "metadata": {},
   "source": [
    "### Edge weight update\n",
    "\n",
    "$$ w_{ij}(t+1)=w_{ij}(t)+(2DVC_{i}(t)-1)\\cdot(2DVC_{j}(t)-1) $$"
   ]
  },
  {
   "cell_type": "code",
   "execution_count": 7,
   "metadata": {},
   "outputs": [],
   "source": [
    "def w(edge, g):\n",
    "    \"\"\" weight for edge on t+1 \"\"\"\n",
    "    return g.get_edge_data(*edge)['weight'] \\\n",
    "            + \\\n",
    "            (2 * g.node[edge[0]]['dvc'] - 1) * (2 * g.node[edge[1]]['dvc'] - 1)\n"
   ]
  },
  {
   "cell_type": "code",
   "execution_count": 11,
   "metadata": {},
   "outputs": [
    {
     "data": {
      "image/png": "[encoded data removed]",
      "text/latex": [
       "$$1.036$$"
      ],
      "text/plain": [
       "1.036"
      ]
     },
     "execution_count": 11,
     "metadata": {},
     "output_type": "execute_result"
    }
   ],
   "source": [
    "w((0,2), g)"
   ]
  },
  {
   "cell_type": "code",
   "execution_count": 9,
   "metadata": {},
   "outputs": [
    {
     "data": {
      "image/png": "[encoded data removed]",
      "text/latex": [
       "$$0.768887489345$$"
      ],
      "text/plain": [
       "0.768887489345"
      ]
     },
     "execution_count": 9,
     "metadata": {},
     "output_type": "execute_result"
    }
   ],
   "source": [
    "DVC(1, g)"
   ]
  },
  {
   "cell_type": "code",
   "execution_count": 10,
   "metadata": {},
   "outputs": [
    {
     "data": {
      "image/png": "[encoded data removed]",
      "text/latex": [
       "$$1$$"
      ],
      "text/plain": [
       "1"
      ]
     },
     "execution_count": 10,
     "metadata": {},
     "output_type": "execute_result"
    }
   ],
   "source": [
    "random.choice(list(g.nodes))"
   ]
  }
 ],
 "metadata": {
  "kernelspec": {
   "display_name": "Python 2",
   "language": "python",
   "name": "python2"
  },
  "language_info": {
   "codemirror_mode": {
    "name": "ipython",
    "version": 2
   },
   "file_extension": ".py",
   "mimetype": "text/x-python",
   "name": "python",
   "nbconvert_exporter": "python",
   "pygments_lexer": "ipython2",
   "version": "2.7.9"
  }
 },
 "nbformat": 4,
 "nbformat_minor": 2
}
