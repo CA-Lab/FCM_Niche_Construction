{
 "cells": [
  {
   "cell_type": "markdown",
   "metadata": {},
   "source": [
    "# FCM training based on Hopfield NN\n",
    "\n",
    "## Learning algorithms for Fuzzy Cognitive Maps\n",
    "\n",
    "This notebook is an implementation of the Hopfield Neural Network training algorithm as proposed in section 4.2 of ref 1.\n",
    "\n",
    "\n",
    "## Dependencies\n",
    "\n",
    "NetworkX is a python library for modeling complex networks. Matplotlib is for ploting, this is a jupyter notebook, hosted at github."
   ]
  },
  {
   "cell_type": "code",
   "execution_count": 17,
   "metadata": {},
   "outputs": [],
   "source": [
    "import networkx as nx\n",
    "import numpy as np\n",
    "import matplotlib\n",
    "import matplotlib.pyplot as plt\n",
    "%matplotlib inline\n",
    "from nx_plot import draw_graph"
   ]
  },
  {
   "cell_type": "markdown",
   "metadata": {},
   "source": [
    "## Example"
   ]
  },
  {
   "cell_type": "code",
   "execution_count": 2,
   "metadata": {},
   "outputs": [],
   "source": [
    "c = [0.32, 0.4, 0.45]\n",
    "\n",
    "w = [[ 0, -1, 1],\n",
    "     [ 1,  0, 1],\n",
    "     [-1,  1, 0]]"
   ]
  },
  {
   "cell_type": "markdown",
   "metadata": {},
   "source": [
    "## Load to NetworkX"
   ]
  },
  {
   "cell_type": "code",
   "execution_count": 24,
   "metadata": {},
   "outputs": [
    {
     "name": "stdout",
     "output_type": "stream",
     "text": [
      "  (0, 1)\t-1\n",
      "  (0, 2)\t1\n",
      "  (1, 0)\t1\n",
      "  (1, 2)\t1\n",
      "  (2, 0)\t-1\n",
      "  (2, 1)\t1\n"
     ]
    },
    {
     "data": {
      "image/png": "[encoded data removed]",
      "text/plain": [
       "<matplotlib.figure.Figure at 0x7fae80364990>"
      ]
     },
     "metadata": {},
     "output_type": "display_data"
    }
   ],
   "source": [
    "# create directed graph from adjacency matrix w\n",
    "g = nx.DiGraph(np.matrix(w))  \n",
    "\n",
    "# set node states\n",
    "for n in g.nodes:\n",
    "    g.add_node(n, s=c[n])\n",
    "\n",
    "    \n",
    "# sanity check\n",
    "print nx.adjacency_matrix(g)\n",
    "\n",
    "draw_graph(g)"
   ]
  },
  {
   "cell_type": "markdown",
   "metadata": {},
   "source": [
    "## Time Step procedure\n",
    "\n",
    "At each time step the simulation must run procedures for updating node states and edge weights."
   ]
  },
  {
   "cell_type": "code",
   "execution_count": 7,
   "metadata": {},
   "outputs": [],
   "source": [
    "def update_weights(g):\n",
    "    h = g.copy()\n",
    "    for e in h.edges():\n",
    "        w = h.get_edge_data(*e)['w']\n",
    "\n",
    "        W = w + ((2 * g.node[e[0]]['s']) - 1) * ((2 * g.node[e[1]]['s']) - 1)\n"
   ]
  },
  {
   "cell_type": "code",
   "execution_count": 18,
   "metadata": {},
   "outputs": [],
   "source": [
    "def update_states(g):\n",
    "    pass"
   ]
  }
 ],
 "metadata": {
  "kernelspec": {
   "display_name": "Python 2",
   "language": "python",
   "name": "python2"
  },
  "language_info": {
   "codemirror_mode": {
    "name": "ipython",
    "version": 2
   },
   "file_extension": ".py",
   "mimetype": "text/x-python",
   "name": "python",
   "nbconvert_exporter": "python",
   "pygments_lexer": "ipython2",
   "version": "2.7.9"
  }
 },
 "nbformat": 4,
 "nbformat_minor": 2
}
